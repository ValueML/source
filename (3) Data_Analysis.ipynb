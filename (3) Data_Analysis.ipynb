{
 "cells": [
  {
   "cell_type": "code",
   "execution_count": null,
   "metadata": {},
   "outputs": [],
   "source": [
    "##################################\n",
    "#We run some analysis on the data we have processes\n",
    "##################################"
   ]
  },
  {
   "cell_type": "code",
   "execution_count": null,
   "metadata": {},
   "outputs": [],
   "source": [
    "#import libraries\n",
    "import pandas as pd\n",
    "import numpy as np\n",
    "import os\n",
    "from datetime import datetime, timedelta"
   ]
  },
  {
   "cell_type": "code",
   "execution_count": null,
   "metadata": {},
   "outputs": [],
   "source": [
    "#valuation dates\n",
    "valuation_dates = ['2019-12-31','2018-12-31','2017-12-31','2016-12-31','2015-12-31','2014-12-31','2013-12-31','2012-12-31','2011-12-31','2010-12-31','2009-12-31','2008-12-31','2007-12-31']\n",
    "#paths to saved data\n",
    "data_path ='./financials.txt'\n",
    "model_data_path ='./model_input.txt'\n",
    "#we will revalue everything to USD at FX 31/12/2019 rates of exchange\n",
    "ccy_fx = {'AUD' : 0.70209,\n",
    "          'CAD': 0.7686,\n",
    "          'CHF': 1.0339,\n",
    "          'EUR': 1.122,\n",
    "          'GBP': 1.326,\n",
    "          'HKD': 0.12835,\n",
    "          'ILS': 0.2896,\n",
    "          'JPY':0.0092,\n",
    "          'RUB':0.0161,\n",
    "          'SGD':0.7493,\n",
    "          'USD':1,\n",
    "         }"
   ]
  },
  {
   "cell_type": "code",
   "execution_count": null,
   "metadata": {},
   "outputs": [],
   "source": [
    "# we prepare the data into our training set\n",
    "financials_df= pd.read_csv(data_path,sep='\\t',low_memory=False)\n",
    "financials_df.drop(columns='Unnamed: 0',inplace=True)\n",
    "financials_df = financials_df.loc[financials_df[valuation_dates[-1]] >0].reset_index(drop=True)\n",
    "\n",
    "#remove entries without numbers of shares\n",
    "#common shares outstanding\n",
    "financials_df['QTCO'] = financials_df['QTCO'].fillna(0)\n",
    "financials_df = financials_df.loc[financials_df['QTCO'] >0].reset_index(drop=True)\n",
    "\n",
    "#remove entries with no final valuation amounts\n",
    "financials_df = financials_df.loc[financials_df['2019-12-31'] >0].reset_index(drop=True)\n",
    "\n",
    "#remove entries with no valuation amounts at the end of 2016\n",
    "financials_df = financials_df.loc[financials_df['2016-12-31'] >0].reset_index(drop=True)\n",
    "financials_df['Source_Year']=financials_df['SourceDate'].str[0:4].astype(int)\n",
    "financials_df['Source_Month']=financials_df['SourceDate'].str[5:7].astype(int)\n",
    "financials_df['Source_Day']=financials_df['SourceDate'].str[-2:].astype(int)\n",
    "financials_df['Period_Year']=financials_df['PeriodEndDate'].str[0:4].astype(int)\n",
    "financials_df['Period_Month']=financials_df['PeriodEndDate'].str[5:7].astype(int)\n",
    "financials_df['Period_Day']=financials_df['PeriodEndDate'].str[-2:].astype(int)\n",
    "\n",
    "financials_df.drop(columns=['PeriodEndDate','SourceDate'],inplace=True)\n",
    "\n",
    "#add in the FX rate of exchange\n",
    "financials_df['FX_USD']=financials_df['Currency'].apply(lambda x:ccy_fx[x])\n",
    "\n",
    "#update the valuation dates to hold the USD market Caps\n",
    "for val_date in valuation_dates:\n",
    "    financials_df[val_date]=financials_df['FX_USD']*financials_df['QTCO']*financials_df[val_date]\n",
    "\n",
    "year_stock_ccy_df = financials_df[['Source_Year','Symbol','Country']]\n",
    "\n",
    "with pd.option_context('display.max_rows', 50, 'display.max_columns', None):\n",
    "    display(pd.pivot_table(year_stock_ccy_df, index=['Country'], columns=['Source_Year'], values=['Symbol'], aggfunc=np.count_nonzero, margins=True).fillna(0))\n",
    "\n",
    "year_stock_ccy_df = financials_df[['Source_Year','Symbol','Currency']].drop_duplicates()\n",
    "\n",
    "with pd.option_context('display.max_rows', 50, 'display.max_columns', None):\n",
    "    display(pd.pivot_table(year_stock_ccy_df, index=['Source_Year'], columns=['Currency'], values=['Symbol'], aggfunc=pd.Series.nunique, margins=True).fillna(0))\n",
    "\n",
    "#remove all na's\n",
    "financials_df = financials_df.fillna(0).reset_index(drop=True)"
   ]
  },
  {
   "cell_type": "code",
   "execution_count": null,
   "metadata": {},
   "outputs": [],
   "source": [
    "#remove all entries with missing valuations\n",
    "#now we prepare the final dataset\n",
    "#drop all accounts data that are sourced after 2016\n",
    "financials_df = financials_df.loc[financials_df['Source_Year'] <2017].reset_index(drop=True)\n",
    "#drop all valuation amounts other than the two we want to use\n",
    "display(pd.pivot_table(financials_df, index=['Source_Year'], columns=[], values=['Symbol'], aggfunc=pd.Series.nunique, margins=True).fillna(0))\n",
    "\n",
    "#sort the financials by stock symbol, year and month \n",
    "financials_df=financials_df.sort_values(['Symbol', 'Source_Year','Source_Month','Source_Day'], ascending=[True, False,False,False]).reset_index(drop=True)\n",
    "\n",
    "display(financials_df)\n",
    "#write to disk\n",
    "financials_df.to_csv(model_data_path,sep='\\t')"
   ]
  },
  {
   "cell_type": "code",
   "execution_count": null,
   "metadata": {},
   "outputs": [],
   "source": [
    "#check the datatypes\n",
    "for col in financials_df.columns:\n",
    "    if (financials_df[col].dtype == 'O'):\n",
    "        print(col)\n",
    "        print(financials_df[col].unique())\n",
    "        print('')\n",
    "display(dict(zip(financials_df.columns,financials_df.dtypes)))"
   ]
  }
 ],
 "metadata": {
  "kernelspec": {
   "display_name": "Python 3.7",
   "language": "python",
   "name": "p37workshop"
  },
  "language_info": {
   "codemirror_mode": {
    "name": "ipython",
    "version": 3
   },
   "file_extension": ".py",
   "mimetype": "text/x-python",
   "name": "python",
   "nbconvert_exporter": "python",
   "pygments_lexer": "ipython3",
   "version": "3.7.3"
  }
 },
 "nbformat": 4,
 "nbformat_minor": 2
}
